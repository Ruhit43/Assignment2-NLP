{
  "nbformat": 4,
  "nbformat_minor": 0,
  "metadata": {
    "colab": {
      "name": "minEditDistance.ipynb",
      "provenance": [],
      "include_colab_link": true
    },
    "kernelspec": {
      "name": "python3",
      "display_name": "Python 3"
    }
  },
  "cells": [
    {
      "cell_type": "markdown",
      "metadata": {
        "id": "view-in-github",
        "colab_type": "text"
      },
      "source": [
        "<a href=\"https://colab.research.google.com/github/Ruhit43/Assignment2-NLP/blob/main/minEditDistance.ipynb\" target=\"_parent\"><img src=\"https://colab.research.google.com/assets/colab-badge.svg\" alt=\"Open In Colab\"/></a>"
      ]
    },
    {
      "cell_type": "code",
      "metadata": {
        "colab": {
          "base_uri": "https://localhost:8080/"
        },
        "id": "hPrq4txRhRw2",
        "outputId": "a5fc0aa9-ab2d-4c28-b686-42fede75477b"
      },
      "source": [
        "import numpy as np\n",
        " \n",
        "def min_edit_dis(target, source):\n",
        "  #target is the goal word and len(target) number of column\n",
        "  #source is the main word to be edited and len(source) number of rows\n",
        " \n",
        "  #building matrix\n",
        "  target = [k for k in target]\n",
        "  source = [k for k in source]\n",
        "  matrix = np.zeros((len(source), len(target)))\n",
        "\n",
        "  #first row and column\n",
        "  matrix[0] = [j for j in range(len(target))]\n",
        "  matrix[:,0] = [j for j in range(len(source))]\n",
        " \n",
        " \n",
        "  if target[1] != source[1]:\n",
        "      matrix[1,1] = 2\n",
        "  \n",
        "  #through every column\n",
        "  for c in range(1, len(target)):\n",
        "      #through every row\n",
        "      for r in range(1, len(source)):\n",
        "          #not same letter\n",
        "          if target[c] != source[r]:\n",
        "              matrix[r,c] = min(matrix[r-1, c], matrix[r, c-1]) + 1\n",
        "          #same letter\n",
        "          else:\n",
        "              matrix[r,c] = matrix[r-1,c-1]\n",
        "  return matrix\n",
        " \n",
        "print(\"Include # before every word input. e.g. #example\")\n",
        "sou = input(\"Enter source word: \")\n",
        "tar = input(\"Enter target word: \")\n",
        "sol_matrix = min_edit_dis(tar, sou) \n",
        "print(sol_matrix)\n",
        "dis = int(sol_matrix[len(sou)-1][len(tar)-1])\n",
        "print('Minimum edit distance is: {0}'.format(dis))"
      ],
      "execution_count": null,
      "outputs": [
        {
          "output_type": "stream",
          "text": [
            "Include # before every word input. e.g. #example\n",
            "Enter source word: #qwert\n",
            "Enter target word: #qwer\n",
            "[[0. 1. 2. 3. 4.]\n",
            " [1. 0. 1. 2. 3.]\n",
            " [2. 1. 0. 1. 2.]\n",
            " [3. 2. 1. 0. 1.]\n",
            " [4. 3. 2. 1. 0.]\n",
            " [5. 4. 3. 2. 1.]]\n",
            "Minimum edit distance is: 1\n"
          ],
          "name": "stdout"
        }
      ]
    }
  ]
}